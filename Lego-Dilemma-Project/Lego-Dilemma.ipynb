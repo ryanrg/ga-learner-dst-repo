{
 "cells": [
  {
   "cell_type": "markdown",
   "metadata": {},
   "source": [
    "### Load and split the dataset\n",
    "- Load the train data and using all your knowledge of pandas try to explore the different statistical properties of the dataset.\n",
    "- Separate the features and target and then split the train data into train and validation set."
   ]
  },
  {
   "cell_type": "code",
   "execution_count": 1,
   "metadata": {
    "ExecuteTime": {
     "end_time": "2021-01-01T08:53:23.549311Z",
     "start_time": "2021-01-01T08:53:22.580369Z"
    }
   },
   "outputs": [],
   "source": [
    "import pandas as pd\n",
    "import numpy as np\n",
    "import matplotlib.pyplot as plt\n",
    "from sklearn.linear_model import LinearRegression\n",
    "from sklearn.metrics import mean_squared_error, r2_score\n",
    "from sklearn.model_selection import train_test_split\n",
    "import seaborn as sns\n",
    "import statsmodels.api as sm\n",
    "from statsmodels.stats.outliers_influence import variance_inflation_factor\n",
    "import warnings\n",
    "\n",
    "warnings.filterwarnings(\"ignore\")"
   ]
  },
  {
   "cell_type": "code",
   "execution_count": 2,
   "metadata": {
    "ExecuteTime": {
     "end_time": "2021-01-01T08:53:23.564748Z",
     "start_time": "2021-01-01T08:53:23.550311Z"
    },
    "scrolled": true
   },
   "outputs": [],
   "source": [
    "data = pd.read_csv('.\\Pandas Test\\Lego Project\\Lego train.csv')\n"
   ]
  },
  {
   "cell_type": "code",
   "execution_count": 3,
   "metadata": {
    "ExecuteTime": {
     "end_time": "2021-01-01T08:53:23.596663Z",
     "start_time": "2021-01-01T08:53:23.565746Z"
    }
   },
   "outputs": [
    {
     "data": {
      "text/html": [
       "<div>\n",
       "<style scoped>\n",
       "    .dataframe tbody tr th:only-of-type {\n",
       "        vertical-align: middle;\n",
       "    }\n",
       "\n",
       "    .dataframe tbody tr th {\n",
       "        vertical-align: top;\n",
       "    }\n",
       "\n",
       "    .dataframe thead th {\n",
       "        text-align: right;\n",
       "    }\n",
       "</style>\n",
       "<table border=\"1\" class=\"dataframe\">\n",
       "  <thead>\n",
       "    <tr style=\"text-align: right;\">\n",
       "      <th></th>\n",
       "      <th>ages</th>\n",
       "      <th>list_price</th>\n",
       "      <th>num_reviews</th>\n",
       "      <th>piece_count</th>\n",
       "      <th>play_star_rating</th>\n",
       "      <th>review_difficulty</th>\n",
       "      <th>star_rating</th>\n",
       "      <th>theme_name</th>\n",
       "      <th>val_star_rating</th>\n",
       "      <th>country</th>\n",
       "      <th>Id</th>\n",
       "    </tr>\n",
       "  </thead>\n",
       "  <tbody>\n",
       "    <tr>\n",
       "      <th>count</th>\n",
       "      <td>8582.000000</td>\n",
       "      <td>8582.000000</td>\n",
       "      <td>8582.000000</td>\n",
       "      <td>8582.000000</td>\n",
       "      <td>8582.000000</td>\n",
       "      <td>8582.000000</td>\n",
       "      <td>8582.000000</td>\n",
       "      <td>8582.000000</td>\n",
       "      <td>8582.000000</td>\n",
       "      <td>8582.000000</td>\n",
       "      <td>8582.000000</td>\n",
       "    </tr>\n",
       "    <tr>\n",
       "      <th>mean</th>\n",
       "      <td>16.649149</td>\n",
       "      <td>64.493463</td>\n",
       "      <td>14.680727</td>\n",
       "      <td>486.677464</td>\n",
       "      <td>3.697809</td>\n",
       "      <td>1.994640</td>\n",
       "      <td>3.904649</td>\n",
       "      <td>20.482172</td>\n",
       "      <td>3.597448</td>\n",
       "      <td>10.045211</td>\n",
       "      <td>4290.500000</td>\n",
       "    </tr>\n",
       "    <tr>\n",
       "      <th>std</th>\n",
       "      <td>8.186261</td>\n",
       "      <td>89.871631</td>\n",
       "      <td>34.867561</td>\n",
       "      <td>802.789725</td>\n",
       "      <td>1.653742</td>\n",
       "      <td>1.792387</td>\n",
       "      <td>1.617678</td>\n",
       "      <td>11.948618</td>\n",
       "      <td>1.624698</td>\n",
       "      <td>6.191468</td>\n",
       "      <td>2477.554338</td>\n",
       "    </tr>\n",
       "    <tr>\n",
       "      <th>min</th>\n",
       "      <td>0.000000</td>\n",
       "      <td>2.272400</td>\n",
       "      <td>0.000000</td>\n",
       "      <td>1.000000</td>\n",
       "      <td>0.000000</td>\n",
       "      <td>0.000000</td>\n",
       "      <td>0.000000</td>\n",
       "      <td>0.000000</td>\n",
       "      <td>0.000000</td>\n",
       "      <td>0.000000</td>\n",
       "      <td>0.000000</td>\n",
       "    </tr>\n",
       "    <tr>\n",
       "      <th>25%</th>\n",
       "      <td>11.000000</td>\n",
       "      <td>19.990000</td>\n",
       "      <td>1.000000</td>\n",
       "      <td>95.000000</td>\n",
       "      <td>3.600000</td>\n",
       "      <td>0.000000</td>\n",
       "      <td>4.000000</td>\n",
       "      <td>9.000000</td>\n",
       "      <td>3.500000</td>\n",
       "      <td>4.000000</td>\n",
       "      <td>2145.250000</td>\n",
       "    </tr>\n",
       "    <tr>\n",
       "      <th>50%</th>\n",
       "      <td>19.000000</td>\n",
       "      <td>36.587800</td>\n",
       "      <td>4.000000</td>\n",
       "      <td>214.000000</td>\n",
       "      <td>4.400000</td>\n",
       "      <td>2.000000</td>\n",
       "      <td>4.600000</td>\n",
       "      <td>21.000000</td>\n",
       "      <td>4.200000</td>\n",
       "      <td>10.000000</td>\n",
       "      <td>4290.500000</td>\n",
       "    </tr>\n",
       "    <tr>\n",
       "      <th>75%</th>\n",
       "      <td>23.000000</td>\n",
       "      <td>71.298000</td>\n",
       "      <td>12.000000</td>\n",
       "      <td>544.000000</td>\n",
       "      <td>4.700000</td>\n",
       "      <td>4.000000</td>\n",
       "      <td>4.900000</td>\n",
       "      <td>34.000000</td>\n",
       "      <td>4.700000</td>\n",
       "      <td>15.000000</td>\n",
       "      <td>6435.750000</td>\n",
       "    </tr>\n",
       "    <tr>\n",
       "      <th>max</th>\n",
       "      <td>30.000000</td>\n",
       "      <td>1104.870000</td>\n",
       "      <td>367.000000</td>\n",
       "      <td>7541.000000</td>\n",
       "      <td>5.000000</td>\n",
       "      <td>5.000000</td>\n",
       "      <td>5.000000</td>\n",
       "      <td>40.000000</td>\n",
       "      <td>5.000000</td>\n",
       "      <td>20.000000</td>\n",
       "      <td>8581.000000</td>\n",
       "    </tr>\n",
       "  </tbody>\n",
       "</table>\n",
       "</div>"
      ],
      "text/plain": [
       "              ages   list_price  num_reviews  piece_count  play_star_rating  \\\n",
       "count  8582.000000  8582.000000  8582.000000  8582.000000       8582.000000   \n",
       "mean     16.649149    64.493463    14.680727   486.677464          3.697809   \n",
       "std       8.186261    89.871631    34.867561   802.789725          1.653742   \n",
       "min       0.000000     2.272400     0.000000     1.000000          0.000000   \n",
       "25%      11.000000    19.990000     1.000000    95.000000          3.600000   \n",
       "50%      19.000000    36.587800     4.000000   214.000000          4.400000   \n",
       "75%      23.000000    71.298000    12.000000   544.000000          4.700000   \n",
       "max      30.000000  1104.870000   367.000000  7541.000000          5.000000   \n",
       "\n",
       "       review_difficulty  star_rating   theme_name  val_star_rating  \\\n",
       "count        8582.000000  8582.000000  8582.000000      8582.000000   \n",
       "mean            1.994640     3.904649    20.482172         3.597448   \n",
       "std             1.792387     1.617678    11.948618         1.624698   \n",
       "min             0.000000     0.000000     0.000000         0.000000   \n",
       "25%             0.000000     4.000000     9.000000         3.500000   \n",
       "50%             2.000000     4.600000    21.000000         4.200000   \n",
       "75%             4.000000     4.900000    34.000000         4.700000   \n",
       "max             5.000000     5.000000    40.000000         5.000000   \n",
       "\n",
       "           country           Id  \n",
       "count  8582.000000  8582.000000  \n",
       "mean     10.045211  4290.500000  \n",
       "std       6.191468  2477.554338  \n",
       "min       0.000000     0.000000  \n",
       "25%       4.000000  2145.250000  \n",
       "50%      10.000000  4290.500000  \n",
       "75%      15.000000  6435.750000  \n",
       "max      20.000000  8581.000000  "
      ]
     },
     "execution_count": 3,
     "metadata": {},
     "output_type": "execute_result"
    }
   ],
   "source": [
    "#View the basic stats for all the columns in the data set\n",
    "data.describe()"
   ]
  },
  {
   "cell_type": "code",
   "execution_count": 4,
   "metadata": {
    "ExecuteTime": {
     "end_time": "2021-01-01T08:53:23.612621Z",
     "start_time": "2021-01-01T08:53:23.597661Z"
    }
   },
   "outputs": [
    {
     "data": {
      "text/html": [
       "<div>\n",
       "<style scoped>\n",
       "    .dataframe tbody tr th:only-of-type {\n",
       "        vertical-align: middle;\n",
       "    }\n",
       "\n",
       "    .dataframe tbody tr th {\n",
       "        vertical-align: top;\n",
       "    }\n",
       "\n",
       "    .dataframe thead th {\n",
       "        text-align: right;\n",
       "    }\n",
       "</style>\n",
       "<table border=\"1\" class=\"dataframe\">\n",
       "  <thead>\n",
       "    <tr style=\"text-align: right;\">\n",
       "      <th></th>\n",
       "      <th>0</th>\n",
       "    </tr>\n",
       "  </thead>\n",
       "  <tbody>\n",
       "    <tr>\n",
       "      <th>ages</th>\n",
       "      <td>0</td>\n",
       "    </tr>\n",
       "    <tr>\n",
       "      <th>list_price</th>\n",
       "      <td>0</td>\n",
       "    </tr>\n",
       "    <tr>\n",
       "      <th>num_reviews</th>\n",
       "      <td>0</td>\n",
       "    </tr>\n",
       "    <tr>\n",
       "      <th>piece_count</th>\n",
       "      <td>0</td>\n",
       "    </tr>\n",
       "    <tr>\n",
       "      <th>play_star_rating</th>\n",
       "      <td>0</td>\n",
       "    </tr>\n",
       "    <tr>\n",
       "      <th>review_difficulty</th>\n",
       "      <td>0</td>\n",
       "    </tr>\n",
       "    <tr>\n",
       "      <th>star_rating</th>\n",
       "      <td>0</td>\n",
       "    </tr>\n",
       "    <tr>\n",
       "      <th>theme_name</th>\n",
       "      <td>0</td>\n",
       "    </tr>\n",
       "    <tr>\n",
       "      <th>val_star_rating</th>\n",
       "      <td>0</td>\n",
       "    </tr>\n",
       "    <tr>\n",
       "      <th>country</th>\n",
       "      <td>0</td>\n",
       "    </tr>\n",
       "    <tr>\n",
       "      <th>Id</th>\n",
       "      <td>0</td>\n",
       "    </tr>\n",
       "  </tbody>\n",
       "</table>\n",
       "</div>"
      ],
      "text/plain": [
       "                   0\n",
       "ages               0\n",
       "list_price         0\n",
       "num_reviews        0\n",
       "piece_count        0\n",
       "play_star_rating   0\n",
       "review_difficulty  0\n",
       "star_rating        0\n",
       "theme_name         0\n",
       "val_star_rating    0\n",
       "country            0\n",
       "Id                 0"
      ]
     },
     "execution_count": 4,
     "metadata": {},
     "output_type": "execute_result"
    }
   ],
   "source": [
    "#Count Null in Data set\n",
    "pd.DataFrame(data.isnull().sum())"
   ]
  },
  {
   "cell_type": "code",
   "execution_count": 5,
   "metadata": {
    "ExecuteTime": {
     "end_time": "2021-01-01T08:53:23.628582Z",
     "start_time": "2021-01-01T08:53:23.613619Z"
    }
   },
   "outputs": [],
   "source": [
    "# drop id as it has no value\n",
    "data = data.drop(['Id'], axis=1)"
   ]
  },
  {
   "cell_type": "code",
   "execution_count": 6,
   "metadata": {
    "ExecuteTime": {
     "end_time": "2021-01-01T08:53:23.644539Z",
     "start_time": "2021-01-01T08:53:23.629576Z"
    }
   },
   "outputs": [],
   "source": [
    "X = data.drop(['list_price'], axis = 1)\n",
    "Y = data[['list_price']]"
   ]
  },
  {
   "cell_type": "code",
   "execution_count": 7,
   "metadata": {
    "ExecuteTime": {
     "end_time": "2021-01-01T08:53:23.660496Z",
     "start_time": "2021-01-01T08:53:23.645532Z"
    }
   },
   "outputs": [],
   "source": [
    "X_train, X_test,y_train,y_test = train_test_split(X, Y , test_size=0.3, random_state=6)"
   ]
  },
  {
   "cell_type": "markdown",
   "metadata": {},
   "source": [
    "### Data Visualization\n",
    "\n",
    "- All the features including target variable are continuous. \n",
    "- Check out the best plots for plotting between continuous features and try making some inferences from these plots. "
   ]
  },
  {
   "cell_type": "code",
   "execution_count": 8,
   "metadata": {
    "ExecuteTime": {
     "end_time": "2021-01-01T08:53:24.423479Z",
     "start_time": "2021-01-01T08:53:23.661489Z"
    }
   },
   "outputs": [
    {
     "data": {
      "image/png": "[encoded data removed]",
      "text/plain": [
       "<Figure size 1440x1440 with 9 Axes>"
      ]
     },
     "metadata": {
      "needs_background": "light"
     },
     "output_type": "display_data"
    }
   ],
   "source": [
    "# Code starts here\n",
    "\n",
    "cols = X_train.columns\n",
    "fig, axes = plt.subplots(nrows = 3, ncols= 3, figsize = (20, 20))\n",
    "\n",
    "for i in range(0,3):             \n",
    "    for j in range(0,3):         \n",
    "            col = cols[i*3 + j]\n",
    "            axes[i,j].set_title(col)\n",
    "            axes[i,j].scatter(X_train[col], y_train)\n",
    "            axes[i,j].set_xlabel(col) \n",
    "            axes[i,j].set_ylabel('list_price')\n",
    "# Code ends here.\n"
   ]
  },
  {
   "cell_type": "markdown",
   "metadata": {},
   "source": [
    "### Feature Selection\n",
    "- Try selecting suitable threshold and accordingly drop the columns."
   ]
  },
  {
   "cell_type": "code",
   "execution_count": 9,
   "metadata": {
    "ExecuteTime": {
     "end_time": "2021-01-01T08:53:24.439409Z",
     "start_time": "2021-01-01T08:53:24.424448Z"
    }
   },
   "outputs": [
    {
     "name": "stdout",
     "output_type": "stream",
     "text": [
      "                   ages  num_reviews  piece_count  play_star_rating  \\\n",
      "ages               1.00        -0.16        -0.09              0.23   \n",
      "num_reviews       -0.16         1.00         0.55              0.15   \n",
      "piece_count       -0.09         0.55         1.00              0.17   \n",
      "play_star_rating   0.23         0.15         0.17              1.00   \n",
      "review_difficulty -0.25        -0.20        -0.31             -0.67   \n",
      "star_rating        0.10         0.16         0.18              0.90   \n",
      "theme_name         0.48         0.02         0.17              0.15   \n",
      "val_star_rating    0.12         0.17         0.19              0.92   \n",
      "country           -0.02         0.01         0.01             -0.00   \n",
      "\n",
      "                   review_difficulty  star_rating  theme_name  \\\n",
      "ages                           -0.25         0.10        0.48   \n",
      "num_reviews                    -0.20         0.16        0.02   \n",
      "piece_count                    -0.31         0.18        0.17   \n",
      "play_star_rating               -0.67         0.90        0.15   \n",
      "review_difficulty               1.00        -0.64       -0.16   \n",
      "star_rating                    -0.64         1.00        0.06   \n",
      "theme_name                     -0.16         0.06        1.00   \n",
      "val_star_rating                -0.66         0.91        0.10   \n",
      "country                         0.00        -0.01       -0.02   \n",
      "\n",
      "                   val_star_rating  country  \n",
      "ages                          0.12    -0.02  \n",
      "num_reviews                   0.17     0.01  \n",
      "piece_count                   0.19     0.01  \n",
      "play_star_rating              0.92    -0.00  \n",
      "review_difficulty            -0.66     0.00  \n",
      "star_rating                   0.91    -0.01  \n",
      "theme_name                    0.10    -0.02  \n",
      "val_star_rating               1.00     0.00  \n",
      "country                       0.00     1.00  \n"
     ]
    }
   ],
   "source": [
    "# Code starts here\n",
    "corr = X_train.corr()\n",
    "print(corr.round(2)) "
   ]
  },
  {
   "cell_type": "code",
   "execution_count": 10,
   "metadata": {
    "ExecuteTime": {
     "end_time": "2021-01-01T08:53:24.454368Z",
     "start_time": "2021-01-01T08:53:24.440406Z"
    }
   },
   "outputs": [],
   "source": [
    "#play_star_rating and  val_star_rating have a correlation of 0.91 its possible these are correlated.\n",
    "#we drop it in the train and test data(X)\n",
    "X_train = X_train.drop(['play_star_rating', 'val_star_rating'], axis=1)\n",
    "X_test = X_test.drop(['play_star_rating', 'val_star_rating'], axis=1)\n",
    "# Code ends here."
   ]
  },
  {
   "cell_type": "code",
   "execution_count": 11,
   "metadata": {
    "ExecuteTime": {
     "end_time": "2021-01-01T08:53:24.469329Z",
     "start_time": "2021-01-01T08:53:24.455365Z"
    }
   },
   "outputs": [
    {
     "data": {
      "text/html": [
       "<div>\n",
       "<style scoped>\n",
       "    .dataframe tbody tr th:only-of-type {\n",
       "        vertical-align: middle;\n",
       "    }\n",
       "\n",
       "    .dataframe tbody tr th {\n",
       "        vertical-align: top;\n",
       "    }\n",
       "\n",
       "    .dataframe thead th {\n",
       "        text-align: right;\n",
       "    }\n",
       "</style>\n",
       "<table border=\"1\" class=\"dataframe\">\n",
       "  <thead>\n",
       "    <tr style=\"text-align: right;\">\n",
       "      <th></th>\n",
       "      <th>ages</th>\n",
       "      <th>num_reviews</th>\n",
       "      <th>piece_count</th>\n",
       "      <th>review_difficulty</th>\n",
       "      <th>star_rating</th>\n",
       "      <th>theme_name</th>\n",
       "      <th>country</th>\n",
       "    </tr>\n",
       "  </thead>\n",
       "  <tbody>\n",
       "    <tr>\n",
       "      <th>6272</th>\n",
       "      <td>23</td>\n",
       "      <td>18</td>\n",
       "      <td>254</td>\n",
       "      <td>2</td>\n",
       "      <td>4.2</td>\n",
       "      <td>37</td>\n",
       "      <td>18</td>\n",
       "    </tr>\n",
       "    <tr>\n",
       "      <th>1262</th>\n",
       "      <td>19</td>\n",
       "      <td>0</td>\n",
       "      <td>109</td>\n",
       "      <td>5</td>\n",
       "      <td>0.0</td>\n",
       "      <td>8</td>\n",
       "      <td>11</td>\n",
       "    </tr>\n",
       "    <tr>\n",
       "      <th>8379</th>\n",
       "      <td>9</td>\n",
       "      <td>0</td>\n",
       "      <td>41</td>\n",
       "      <td>5</td>\n",
       "      <td>0.0</td>\n",
       "      <td>13</td>\n",
       "      <td>8</td>\n",
       "    </tr>\n",
       "    <tr>\n",
       "      <th>4989</th>\n",
       "      <td>8</td>\n",
       "      <td>337</td>\n",
       "      <td>1334</td>\n",
       "      <td>1</td>\n",
       "      <td>4.7</td>\n",
       "      <td>9</td>\n",
       "      <td>5</td>\n",
       "    </tr>\n",
       "    <tr>\n",
       "      <th>6452</th>\n",
       "      <td>0</td>\n",
       "      <td>1</td>\n",
       "      <td>135</td>\n",
       "      <td>4</td>\n",
       "      <td>4.0</td>\n",
       "      <td>4</td>\n",
       "      <td>19</td>\n",
       "    </tr>\n",
       "  </tbody>\n",
       "</table>\n",
       "</div>"
      ],
      "text/plain": [
       "      ages  num_reviews  piece_count  review_difficulty  star_rating  \\\n",
       "6272    23           18          254                  2          4.2   \n",
       "1262    19            0          109                  5          0.0   \n",
       "8379     9            0           41                  5          0.0   \n",
       "4989     8          337         1334                  1          4.7   \n",
       "6452     0            1          135                  4          4.0   \n",
       "\n",
       "      theme_name  country  \n",
       "6272          37       18  \n",
       "1262           8       11  \n",
       "8379          13        8  \n",
       "4989           9        5  \n",
       "6452           4       19  "
      ]
     },
     "execution_count": 11,
     "metadata": {},
     "output_type": "execute_result"
    }
   ],
   "source": [
    "\n",
    "X_test.head(5)"
   ]
  },
  {
   "cell_type": "markdown",
   "metadata": {},
   "source": [
    "### Model building"
   ]
  },
  {
   "cell_type": "code",
   "execution_count": 12,
   "metadata": {
    "ExecuteTime": {
     "end_time": "2021-01-01T08:53:24.515206Z",
     "start_time": "2021-01-01T08:53:24.470325Z"
    }
   },
   "outputs": [
    {
     "name": "stdout",
     "output_type": "stream",
     "text": [
      "MSE is 2385.62\n",
      " R^2 is 0.73\n"
     ]
    }
   ],
   "source": [
    "ModelReg = LinearRegression()\n",
    "\n",
    "ModelReg.fit(X_train, y_train)\n",
    "y_pred = ModelReg.predict(X_test)\n",
    "#print(y_pred)\n",
    "\n",
    "mse = round(mean_squared_error(y_test, y_pred),2)\n",
    "print(f'MSE is {mse}')\n",
    "\n",
    "r2 = round(r2_score(y_test, y_pred),2)\n",
    "print(f' R^2 is {r2}') \n"
   ]
  },
  {
   "cell_type": "markdown",
   "metadata": {},
   "source": [
    "### Residual check!\n",
    "\n",
    "- Check the distribution of the residual."
   ]
  },
  {
   "cell_type": "code",
   "execution_count": 13,
   "metadata": {
    "ExecuteTime": {
     "end_time": "2021-01-01T08:53:24.531163Z",
     "start_time": "2021-01-01T08:53:24.516203Z"
    }
   },
   "outputs": [
    {
     "data": {
      "text/plain": [
       "list_price    2557.702739\n",
       "dtype: float64"
      ]
     },
     "execution_count": 13,
     "metadata": {},
     "output_type": "execute_result"
    }
   ],
   "source": [
    "# Code starts here\n",
    "residual = y_test - y_pred\n",
    "np.sum(residual)"
   ]
  },
  {
   "cell_type": "code",
   "execution_count": 14,
   "metadata": {
    "ExecuteTime": {
     "end_time": "2021-01-01T08:53:24.640869Z",
     "start_time": "2021-01-01T08:53:24.532160Z"
    }
   },
   "outputs": [
    {
     "data": {
      "text/plain": [
       "array([[<matplotlib.axes._subplots.AxesSubplot object at 0x000001CEEA9E6D30>]],\n",
       "      dtype=object)"
      ]
     },
     "execution_count": 14,
     "metadata": {},
     "output_type": "execute_result"
    },
    {
     "data": {
      "image/png": "[encoded data removed]",
      "text/plain": [
       "<Figure size 432x288 with 1 Axes>"
      ]
     },
     "metadata": {
      "needs_background": "light"
     },
     "output_type": "display_data"
    }
   ],
   "source": [
    " \n",
    "residual.hist()\n",
    "\n",
    "# Code ends here."
   ]
  },
  {
   "cell_type": "markdown",
   "metadata": {},
   "source": [
    "### Prediction on the test data and creating the sample submission file.\n",
    "\n",
    "- Load the test data and store the `Id` column in a separate variable.\n",
    "- Perform the same operations on the test data that you have performed on the train data.\n",
    "- Create the submission file as a `csv` file consisting of the `Id` column from the test data and your prediction as the second column."
   ]
  },
  {
   "cell_type": "code",
   "execution_count": 42,
   "metadata": {
    "ExecuteTime": {
     "end_time": "2021-01-01T09:16:46.464515Z",
     "start_time": "2021-01-01T09:16:46.440578Z"
    }
   },
   "outputs": [
    {
     "data": {
      "text/html": [
       "<div>\n",
       "<style scoped>\n",
       "    .dataframe tbody tr th:only-of-type {\n",
       "        vertical-align: middle;\n",
       "    }\n",
       "\n",
       "    .dataframe tbody tr th {\n",
       "        vertical-align: top;\n",
       "    }\n",
       "\n",
       "    .dataframe thead th {\n",
       "        text-align: right;\n",
       "    }\n",
       "</style>\n",
       "<table border=\"1\" class=\"dataframe\">\n",
       "  <thead>\n",
       "    <tr style=\"text-align: right;\">\n",
       "      <th></th>\n",
       "      <th>Id</th>\n",
       "    </tr>\n",
       "  </thead>\n",
       "  <tbody>\n",
       "    <tr>\n",
       "      <th>0</th>\n",
       "      <td>9907</td>\n",
       "    </tr>\n",
       "    <tr>\n",
       "      <th>1</th>\n",
       "      <td>5243</td>\n",
       "    </tr>\n",
       "    <tr>\n",
       "      <th>2</th>\n",
       "      <td>8276</td>\n",
       "    </tr>\n",
       "    <tr>\n",
       "      <th>3</th>\n",
       "      <td>6501</td>\n",
       "    </tr>\n",
       "  </tbody>\n",
       "</table>\n",
       "</div>"
      ],
      "text/plain": [
       "     Id\n",
       "0  9907\n",
       "1  5243\n",
       "2  8276\n",
       "3  6501"
      ]
     },
     "execution_count": 42,
     "metadata": {},
     "output_type": "execute_result"
    }
   ],
   "source": [
    "# Code starts here\n",
    "\n",
    "data_pred = pd.read_csv('.\\Pandas Test\\Lego Project\\Lego test.csv')\n",
    "\n",
    "submission = pd.DataFrame(data_pred['Id'].copy())\n",
    "data_pred = data_pred.drop(['Id'], axis=1)\n",
    "data_pred = data_pred.drop(['play_star_rating', 'val_star_rating'], axis=1)\n",
    "\n",
    "\n",
    "submission.head(4)\n"
   ]
  },
  {
   "cell_type": "code",
   "execution_count": 43,
   "metadata": {
    "ExecuteTime": {
     "end_time": "2021-01-01T09:17:02.042537Z",
     "start_time": "2021-01-01T09:17:02.029556Z"
    }
   },
   "outputs": [
    {
     "data": {
      "text/html": [
       "<div>\n",
       "<style scoped>\n",
       "    .dataframe tbody tr th:only-of-type {\n",
       "        vertical-align: middle;\n",
       "    }\n",
       "\n",
       "    .dataframe tbody tr th {\n",
       "        vertical-align: top;\n",
       "    }\n",
       "\n",
       "    .dataframe thead th {\n",
       "        text-align: right;\n",
       "    }\n",
       "</style>\n",
       "<table border=\"1\" class=\"dataframe\">\n",
       "  <thead>\n",
       "    <tr style=\"text-align: right;\">\n",
       "      <th></th>\n",
       "      <th>0</th>\n",
       "    </tr>\n",
       "  </thead>\n",
       "  <tbody>\n",
       "    <tr>\n",
       "      <th>0</th>\n",
       "      <td>114.08</td>\n",
       "    </tr>\n",
       "    <tr>\n",
       "      <th>1</th>\n",
       "      <td>24.06</td>\n",
       "    </tr>\n",
       "    <tr>\n",
       "      <th>2</th>\n",
       "      <td>148.66</td>\n",
       "    </tr>\n",
       "    <tr>\n",
       "      <th>3</th>\n",
       "      <td>55.82</td>\n",
       "    </tr>\n",
       "    <tr>\n",
       "      <th>4</th>\n",
       "      <td>7.00</td>\n",
       "    </tr>\n",
       "  </tbody>\n",
       "</table>\n",
       "</div>"
      ],
      "text/plain": [
       "        0\n",
       "0  114.08\n",
       "1   24.06\n",
       "2  148.66\n",
       "3   55.82\n",
       "4    7.00"
      ]
     },
     "execution_count": 43,
     "metadata": {},
     "output_type": "execute_result"
    }
   ],
   "source": [
    "y_pred__td = np.round(ModelReg.predict(data_pred),2)\n",
    "y_pred__td_pd =  pd.DataFrame(y_pred__td)\n",
    "y_pred__td_pd.head(5)"
   ]
  },
  {
   "cell_type": "code",
   "execution_count": 45,
   "metadata": {
    "ExecuteTime": {
     "end_time": "2021-01-01T09:18:00.773460Z",
     "start_time": "2021-01-01T09:18:00.759990Z"
    }
   },
   "outputs": [],
   "source": [
    "submission['list_price'] = y_pred__td\n",
    "\n",
    "submission.to_csv('.\\Pandas Test\\Lego Project\\submission.csv', index = False)\n",
    "# Code ends here."
   ]
  }
 ],
 "metadata": {
  "kernelspec": {
   "display_name": "Python 3",
   "language": "python",
   "name": "python3"
  },
  "language_info": {
   "codemirror_mode": {
    "name": "ipython",
    "version": 3
   },
   "file_extension": ".py",
   "mimetype": "text/x-python",
   "name": "python",
   "nbconvert_exporter": "python",
   "pygments_lexer": "ipython3",
   "version": "3.8.3"
  }
 },
 "nbformat": 4,
 "nbformat_minor": 2
}
